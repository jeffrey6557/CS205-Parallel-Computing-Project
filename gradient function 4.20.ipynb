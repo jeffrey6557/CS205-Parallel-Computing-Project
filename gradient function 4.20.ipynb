{
 "cells": [
  {
   "cell_type": "code",
   "execution_count": 1,
   "metadata": {
    "collapsed": false
   },
   "outputs": [
    {
     "data": {
      "text/html": [
       "<div>\n",
       "<table border=\"1\" class=\"dataframe\">\n",
       "  <thead>\n",
       "    <tr style=\"text-align: right;\">\n",
       "      <th></th>\n",
       "      <th>0</th>\n",
       "      <th>1</th>\n",
       "      <th>2</th>\n",
       "      <th>3</th>\n",
       "      <th>4</th>\n",
       "      <th>5</th>\n",
       "      <th>6</th>\n",
       "      <th>7</th>\n",
       "      <th>8</th>\n",
       "      <th>9</th>\n",
       "      <th>...</th>\n",
       "      <th>34</th>\n",
       "      <th>35</th>\n",
       "      <th>36</th>\n",
       "      <th>37</th>\n",
       "      <th>38</th>\n",
       "      <th>39</th>\n",
       "      <th>40</th>\n",
       "      <th>41</th>\n",
       "      <th>42</th>\n",
       "      <th>43</th>\n",
       "    </tr>\n",
       "  </thead>\n",
       "  <tbody>\n",
       "    <tr>\n",
       "      <th>0</th>\n",
       "      <td>1</td>\n",
       "      <td>-0.012174</td>\n",
       "      <td>0.876195</td>\n",
       "      <td>-0.821730</td>\n",
       "      <td>0.390792</td>\n",
       "      <td>-0.878678</td>\n",
       "      <td>0.129147</td>\n",
       "      <td>1.372188</td>\n",
       "      <td>-0.334329</td>\n",
       "      <td>-0.296729</td>\n",
       "      <td>...</td>\n",
       "      <td>0.419438</td>\n",
       "      <td>0.513857</td>\n",
       "      <td>0.808871</td>\n",
       "      <td>-0.692646</td>\n",
       "      <td>0.504737</td>\n",
       "      <td>-0.231789</td>\n",
       "      <td>1.492776</td>\n",
       "      <td>0.922141</td>\n",
       "      <td>-0.600025</td>\n",
       "      <td>10.211998</td>\n",
       "    </tr>\n",
       "    <tr>\n",
       "      <th>1</th>\n",
       "      <td>2</td>\n",
       "      <td>-0.414593</td>\n",
       "      <td>2.089534</td>\n",
       "      <td>0.767967</td>\n",
       "      <td>-0.531405</td>\n",
       "      <td>-1.267946</td>\n",
       "      <td>-2.167541</td>\n",
       "      <td>1.492074</td>\n",
       "      <td>0.154895</td>\n",
       "      <td>-0.850552</td>\n",
       "      <td>...</td>\n",
       "      <td>0.996180</td>\n",
       "      <td>-0.984347</td>\n",
       "      <td>-1.021569</td>\n",
       "      <td>-0.123840</td>\n",
       "      <td>-1.646673</td>\n",
       "      <td>-1.098993</td>\n",
       "      <td>0.068630</td>\n",
       "      <td>0.833515</td>\n",
       "      <td>-0.046618</td>\n",
       "      <td>-17.977649</td>\n",
       "    </tr>\n",
       "    <tr>\n",
       "      <th>2</th>\n",
       "      <td>3</td>\n",
       "      <td>0.518695</td>\n",
       "      <td>0.266402</td>\n",
       "      <td>0.461723</td>\n",
       "      <td>-0.321374</td>\n",
       "      <td>0.404821</td>\n",
       "      <td>0.718711</td>\n",
       "      <td>0.312322</td>\n",
       "      <td>0.872880</td>\n",
       "      <td>0.746390</td>\n",
       "      <td>...</td>\n",
       "      <td>-0.025135</td>\n",
       "      <td>-1.968233</td>\n",
       "      <td>2.028659</td>\n",
       "      <td>0.695655</td>\n",
       "      <td>2.003776</td>\n",
       "      <td>-0.447771</td>\n",
       "      <td>1.747370</td>\n",
       "      <td>-1.616466</td>\n",
       "      <td>-0.032937</td>\n",
       "      <td>3.742127</td>\n",
       "    </tr>\n",
       "    <tr>\n",
       "      <th>3</th>\n",
       "      <td>4</td>\n",
       "      <td>-0.270436</td>\n",
       "      <td>2.778741</td>\n",
       "      <td>0.758504</td>\n",
       "      <td>1.569473</td>\n",
       "      <td>-0.691518</td>\n",
       "      <td>0.885353</td>\n",
       "      <td>-0.516506</td>\n",
       "      <td>-0.714972</td>\n",
       "      <td>1.079940</td>\n",
       "      <td>...</td>\n",
       "      <td>0.167137</td>\n",
       "      <td>0.137619</td>\n",
       "      <td>-0.654931</td>\n",
       "      <td>-1.362088</td>\n",
       "      <td>-0.150184</td>\n",
       "      <td>-1.258357</td>\n",
       "      <td>-1.345776</td>\n",
       "      <td>1.409299</td>\n",
       "      <td>1.051374</td>\n",
       "      <td>11.304498</td>\n",
       "    </tr>\n",
       "    <tr>\n",
       "      <th>4</th>\n",
       "      <td>5</td>\n",
       "      <td>-0.131126</td>\n",
       "      <td>1.801190</td>\n",
       "      <td>1.631851</td>\n",
       "      <td>-0.357221</td>\n",
       "      <td>1.526107</td>\n",
       "      <td>-1.093846</td>\n",
       "      <td>-2.845149</td>\n",
       "      <td>-1.794031</td>\n",
       "      <td>-0.568017</td>\n",
       "      <td>...</td>\n",
       "      <td>-0.220428</td>\n",
       "      <td>-0.097930</td>\n",
       "      <td>-0.921839</td>\n",
       "      <td>-1.350374</td>\n",
       "      <td>-0.313434</td>\n",
       "      <td>0.621693</td>\n",
       "      <td>-0.267378</td>\n",
       "      <td>-0.060787</td>\n",
       "      <td>0.374508</td>\n",
       "      <td>1.784558</td>\n",
       "    </tr>\n",
       "  </tbody>\n",
       "</table>\n",
       "<p>5 rows × 44 columns</p>\n",
       "</div>"
      ],
      "text/plain": [
       "   0         1         2         3         4         5         6         7   \\\n",
       "0   1 -0.012174  0.876195 -0.821730  0.390792 -0.878678  0.129147  1.372188   \n",
       "1   2 -0.414593  2.089534  0.767967 -0.531405 -1.267946 -2.167541  1.492074   \n",
       "2   3  0.518695  0.266402  0.461723 -0.321374  0.404821  0.718711  0.312322   \n",
       "3   4 -0.270436  2.778741  0.758504  1.569473 -0.691518  0.885353 -0.516506   \n",
       "4   5 -0.131126  1.801190  1.631851 -0.357221  1.526107 -1.093846 -2.845149   \n",
       "\n",
       "         8         9     ...            34        35        36        37  \\\n",
       "0 -0.334329 -0.296729    ...      0.419438  0.513857  0.808871 -0.692646   \n",
       "1  0.154895 -0.850552    ...      0.996180 -0.984347 -1.021569 -0.123840   \n",
       "2  0.872880  0.746390    ...     -0.025135 -1.968233  2.028659  0.695655   \n",
       "3 -0.714972  1.079940    ...      0.167137  0.137619 -0.654931 -1.362088   \n",
       "4 -1.794031 -0.568017    ...     -0.220428 -0.097930 -0.921839 -1.350374   \n",
       "\n",
       "         38        39        40        41        42         43  \n",
       "0  0.504737 -0.231789  1.492776  0.922141 -0.600025  10.211998  \n",
       "1 -1.646673 -1.098993  0.068630  0.833515 -0.046618 -17.977649  \n",
       "2  2.003776 -0.447771  1.747370 -1.616466 -0.032937   3.742127  \n",
       "3 -0.150184 -1.258357 -1.345776  1.409299  1.051374  11.304498  \n",
       "4 -0.313434  0.621693 -0.267378 -0.060787  0.374508   1.784558  \n",
       "\n",
       "[5 rows x 44 columns]"
      ]
     },
     "execution_count": 1,
     "metadata": {},
     "output_type": "execute_result"
    }
   ],
   "source": [
    "import pandas as pd\n",
    "import numpy as np\n",
    "import theano\n",
    "import theano.tensor as T\n",
    "\n",
    "data = pd.read_csv(\"test_data.csv\",header=-1)\n",
    "[nrow, ncol] = data.shape\n",
    "data.head(5)"
   ]
  },
  {
   "cell_type": "code",
   "execution_count": 47,
   "metadata": {
    "collapsed": false
   },
   "outputs": [],
   "source": [
    "data=np.array(data)\n",
    "X=data[:,0:42]\n",
    "Y=data[:,43]\n",
    "w1=np.random.randn(42,24)\n",
    "w2=np.random.randn(24,12)\n",
    "w3=np.random.randn(12,1)\n",
    "b1=np.random.randn(24)\n",
    "b2=np.random.randn(12)\n",
    "b3=np.random.randn(1)"
   ]
  },
  {
   "cell_type": "code",
   "execution_count": 37,
   "metadata": {
    "collapsed": true
   },
   "outputs": [],
   "source": [
    "def gradient(X,Y,w1,w2,w3,b1,b2,b3,batchsize,penalty):\n",
    "    [nrow, ncol] = X.shape \n",
    "    index = np.random.choice(range(nrow),size=batchsize,replace=False)\n",
    "    trainX = X[index,:]\n",
    "    trainY = np.reshape(Y[index],[batchsize,1])\n",
    "    x = T.dmatrix('x')\n",
    "    y = T.dmatrix('y')\n",
    "    w01 = theano.shared(value = w1, name='w01',borrow=True)\n",
    "    w12 = theano.shared(value = w2, name='w12',borrow=True)\n",
    "    w23 = theano.shared(value = w3, name='w23',borrow=True)\n",
    "    b01 = theano.shared(value = b1, name='b01',borrow=True)\n",
    "    b12 = theano.shared(value = b2, name='b12',borrow=True)\n",
    "    b23 = theano.shared(value = b3, name='b23',borrow=True)\n",
    "    L01_temp = T.dot(x, w01) + b01\n",
    "    L01 = L01_temp*(L01_temp>0)\n",
    "    L12 = T.dot(L01, w12) + b12 \n",
    "    L23 = T.dot(L12, w23) + b23\n",
    "    loss = T.mean((y-L23)**2)  \n",
    "    cost = loss.mean + penalty * ((w01**2).sum() + (w12**2).sum()+(w23**2).sum())  ## L2 penalty\n",
    "    dw1 = T.grad(cost=cost, wrt=w01)\n",
    "    dw2 = T.grad(cost=cost, wrt=w12)\n",
    "    dw3 = T.grad(cost=cost, wrt=w23)\n",
    "    db1 = T.grad(cost=cost, wrt=b01)\n",
    "    db2 = T.grad(cost=cost, wrt=b12)\n",
    "    db3 = T.grad(cost=cost, wrt=b23)    \n",
    "    train = theano.function(inputs=[x,y], outputs=[dw1,dw2,dw3,db1,db2,db3],name='train')\n",
    "    gw1,gw2,gw3,gb1,gb2,gb3=train(trainX,trainY)\n",
    "    return [gw1,gw2,gw3,gb1,gb2,gb3]"
   ]
  },
  {
   "cell_type": "code",
   "execution_count": 78,
   "metadata": {
    "collapsed": true
   },
   "outputs": [],
   "source": [
    "def lossfunc(X,Y,w1,w2,w3,b1,b2,b3):\n",
    "    Y=np.reshape(Y,[X.shape[0],1])\n",
    "    L01_temp = np.dot(X, w1) + b1\n",
    "    L01 = L01_temp*(L01_temp>0)\n",
    "    L12 = np.dot(L01, w2) + b2 \n",
    "    L23 = np.dot(L12, w3) + b3\n",
    "    loss = np.mean((Y-L23)**2)  \n",
    "    return loss"
   ]
  },
  {
   "cell_type": "code",
   "execution_count": 85,
   "metadata": {
    "collapsed": false,
    "scrolled": false
   },
   "outputs": [],
   "source": [
    "loss_vec=[]\n",
    "w1=np.random.randn(42,24)\n",
    "w2=np.random.randn(24,12)\n",
    "w3=np.random.randn(12,1)\n",
    "b1=np.random.randn(24)\n",
    "b2=np.random.randn(12)\n",
    "b3=np.random.randn(1)\n",
    "\n",
    "for i in range(100):\n",
    "    if i<10:\n",
    "        eta=0.0000001\n",
    "    else:\n",
    "        eta=0.000001\n",
    "    gw1,gw2,gw3,gb1,gb2,gb3=gradient(X,Y,w1,w2,w3,b1,b2,b3,500,1)\n",
    "    w1=w1-eta*gw1\n",
    "    w2=w2-eta*gw2\n",
    "    w3=w3-eta*gw3\n",
    "    b1=b1-eta*gb1\n",
    "    b2=b2-eta*gb2\n",
    "    b3=b3-eta*gb3\n",
    "    loss=lossfunc(X,Y,w1,w2,w3,b1,b2,b3)\n",
    "    loss_vec.append(loss)"
   ]
  },
  {
   "cell_type": "code",
   "execution_count": 87,
   "metadata": {
    "collapsed": false
   },
   "outputs": [
    {
     "data": {
      "text/plain": [
       "[<matplotlib.lines.Line2D at 0x1ae8c62ad68>]"
      ]
     },
     "execution_count": 87,
     "metadata": {},
     "output_type": "execute_result"
    },
    {
     "data": {
      "image/png": "[encoded data removed]",
      "text/plain": [
       "<matplotlib.figure.Figure at 0x1ae8c5a0f60>"
      ]
     },
     "metadata": {},
     "output_type": "display_data"
    }
   ],
   "source": [
    "import matplotlib.pyplot as plt\n",
    "%matplotlib inline\n",
    "plt.plot(range(100),np.log(loss_vec))"
   ]
  },
  {
   "cell_type": "code",
   "execution_count": null,
   "metadata": {
    "collapsed": true
   },
   "outputs": [],
   "source": []
  }
 ],
 "metadata": {
  "anaconda-cloud": {},
  "kernelspec": {
   "display_name": "Python [conda root]",
   "language": "python",
   "name": "conda-root-py"
  },
  "language_info": {
   "codemirror_mode": {
    "name": "ipython",
    "version": 3
   },
   "file_extension": ".py",
   "mimetype": "text/x-python",
   "name": "python",
   "nbconvert_exporter": "python",
   "pygments_lexer": "ipython3",
   "version": "3.5.2"
  }
 },
 "nbformat": 4,
 "nbformat_minor": 1
}
