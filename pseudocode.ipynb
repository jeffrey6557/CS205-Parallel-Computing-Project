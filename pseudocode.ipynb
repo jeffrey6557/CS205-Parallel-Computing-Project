{
 "cells": [
  {
   "cell_type": "code",
   "execution_count": null,
   "metadata": {
    "collapsed": true
   },
   "outputs": [],
   "source": [
    "import gzip\n",
    "import datetime\n",
    "import numpy as np\n",
    "import theano\n",
    "import theano.tensor as T\n",
    "\n",
    "stock='mnist.pkl.gz'\n",
    "x=stock['x']\n",
    "y=stock['y']"
   ]
  },
  {
   "cell_type": "code",
   "execution_count": null,
   "metadata": {
    "collapsed": true
   },
   "outputs": [],
   "source": [
    "batch_size = k  ## 64*sth\n",
    "num_layer = l   ## l+2 together if we add input and output layer\n",
    "num_neutron = m ## l*1 vector, each denotes the number of neutrons in the layer\n",
    "eta = 0.1 # Learning rate\n",
    "lambdas = 0.001 # regularization factor \n",
    "x = T.dmatrix('x')\n",
    "y = T.lvector('y')\n",
    "n_in_0 = ncol(x)\n",
    "n_out_0 = num_neutron[0]\n",
    "n_in_1 = n_out_0\n",
    "n_out_1 = num_neutron[1]\n",
    "## ... so on so forth\n",
    "n_out_l = 1\n",
    "\n",
    "\n",
    "## Below are the initial values\n",
    "w01 = theano.shared(np.random.uniform(low=-np.sqrt(6. / (n_in_0 + n_out_0)),\n",
    "     high=np.sqrt(6. / (n_in_0 + n_out_0)),size=(n_in_0, n_out_0)),name='w01',borrow=True)\n",
    "w12 = theano.shared(np.random.randn(n_in_1,n_out_1),name='w12',borrow=True)\n",
    "w23 = theano.shared(np.random.randn(n_in_2,n_out_2),name='w23',borrow=True)\n",
    "##...more w corresponding to l\n",
    "b01 = theano.shared(value=np.zeros(n_out_0, dtype=theano.config.floatX),name='b1',borrow=True)\n",
    "b12 = theano.shared(value=np.zeros(n_out_1, dtype=theano.config.floatX),name='b2',borrow=True)\n",
    "b23 = theano.shared(value=np.zeros(n_out_2, dtype=theano.config.floatX),name='b3',borrow=True)\n",
    "##...more b corresponding to w\n",
    "\n",
    "\n",
    "#########################################################\n",
    "############# From MPI recieve new w and b ##############\n",
    "#########################################################\n",
    "w01 = theano.shared(new_w01,name='w01',borrow=True)\n",
    "# ......\n",
    "\n",
    "L01 = T.tanh(T.dot(x, w01) + b01) ## standard first step transformation\n",
    "L12 = T.dot(L01, w12) + b12 ## linear regression here\n",
    "L23 = T.dot(L12, w23) + b23\n",
    "## ...more layers\n",
    "## L(l+1) is the output layer, which is just a nrow*1 vector in our case\n",
    "    \n",
    "loss = T.mean((y-Lout)**2)  \n",
    "cost = loss.mean() + lambdas * ((w01**2).sum() + (w12**2).sum()+....)  ## L2 penalty\n",
    "gw01 = T.grad(cost=cost, wrt=w01)\n",
    "gw12 = T.grad(cost=cost, wrt=w12)\n",
    "#...\n",
    "gb01 = T.grad(cost=cost, wrt=b01)\n",
    "gb12 = T.grad(cost=cost, wrt=b12)\n",
    "#...\n",
    "train = theano.function(inputs=[x,y], outputs=[Lout,loss,w,b],\n",
    "        updates=((w01, w01 - eta * gw01), (w12, w12 - eta * gw12),\n",
    "        (b01, b01 - eta * gb01), (b12, b12 - eta * gb12)),name='train')\n",
    "test = theano.function(inputs=[x,y],outputs=[Lout, loss],name='test')\n",
    "\n",
    "## openmp here\n",
    "Lout_par=np.zeros(64,n)\n",
    "loss_par=np.zeros(64)\n",
    "w_par=np.zeros(64, dim(w01)+dim(w12)+....) # dim means n_in*n_out\n",
    "b_par=np.zeros(64,len(b01)+len(b12)+....)\n",
    "for i in prange(64):  ## 64 threads, 64 parallel updates, each updates has 10 minibatch sub-updates\n",
    "    ## sequential below:\n",
    "    for j in range(num_batch): ## for example, data size=10000, number of batch here is 10, and batch size=5\n",
    "        [Lout_par[i,],loss_par[i,],w[i,],b[i,]]=train([x,y])\n",
    "\n",
    "w_new=np.mean(w_par,axis=0)\n",
    "b_new=np.mean(b_par.axis=0)\n",
    "dw=w_new-w_old\n",
    "db=b_new-b_old\n",
    "## send it to parameter server"
   ]
  }
 ],
 "metadata": {
  "kernelspec": {
   "display_name": "Python [conda root]",
   "language": "python",
   "name": "conda-root-py"
  },
  "language_info": {
   "codemirror_mode": {
    "name": "ipython",
    "version": 3
   },
   "file_extension": ".py",
   "mimetype": "text/x-python",
   "name": "python",
   "nbconvert_exporter": "python",
   "pygments_lexer": "ipython3",
   "version": "3.5.2"
  }
 },
 "nbformat": 4,
 "nbformat_minor": 1
}
