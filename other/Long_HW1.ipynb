{
 "cells": [
  {
   "cell_type": "markdown",
   "metadata": {},
   "source": [
    "# Long Homework 1\n",
    "\n",
    "## AMPTH 207: Stochastic Methods for Data Analysis, Inference and Optimization\n",
    " \n",
    "**Due Date:** Thursday, Febrary 23rd, 2017 at 11:59pm\n",
    "\n",
    "**Instructions:**\n",
    "\n",
    "- Upload your final answers as well as your iPython notebook containing all work to Canvas.\n",
    "\n",
    "- Structure your notebook and your work to maximize readability."
   ]
  },
  {
   "cell_type": "markdown",
   "metadata": {},
   "source": [
    "## Premise\n",
    "\n",
    "In supervised machine learning, a function that maps certain input data to a set of outputs is inferred from a labelled dataset called the training set, and the resulting learnt funtion is then used to make predictions on unseen new examples of the dataset (the test set).\n",
    "\n",
    "The goal of this homework is to construct a classifier known as the single-hidden-layer Multi-Layer Perceptron (MLP), an artificial neural netwok. You are asked to train the classifier using mini-batch gradient descent, validate it, and then apply it to a test dataset to make predictions. We will use the [*MNIST* dataset](https://en.wikipedia.org/wiki/MNIST_database), which consists of 70,000 images of handwritten digits, each of which is 28x28 pixels. You can use the first 50,000 images as the training set, the next 10,000 images as the validation set, and the last 10,000 images as the test set.\n",
    "\n",
    "You will proceed in 2 steps (each step is a problem) to build the MLP. Please use Theano to program the classifiers.\n",
    "\n",
    "## Problem 1. Stochastic gradient descent for the logistic regresion\n",
    "\n",
    "First, build a logistic regression classifier whose input is the array of pixel values in one image, and whose output is the most likely class of the vector. In order to familiarize yourself with the dataset, plot some of the images beforehand, and think about the pixel values as features of the input vector.\n",
    "\n",
    "### Part A\n",
    "\n",
    "Using the softmax formulation, write a Theano expression graph that:\n",
    "* Calculates the probability of a target element belonging to class $i$ (i.e., the probability that a given image represents a digit between 0 and 9).\n",
    "* Maximizes it over all classes, and computes the cost function using an L2 regularization approach\n",
    "* Minimizes the resulting cost function using mini-batch gradient descent. How long does it take for your code to train with 50,000 training examples of the dataset?\n",
    "\n",
    "*Hint: Use a batch size of 256 examples, a learning rate $\\eta = 0.1$, and a regularization factor $\\lambda=0.01$*."
   ]
  },
  {
   "cell_type": "code",
   "execution_count": 1,
   "metadata": {
    "collapsed": false
   },
   "outputs": [],
   "source": [
    "import gzip\n",
    "import datetime\n",
    "import numpy as np\n",
    "import theano\n",
    "import theano.tensor as T\n",
    "import six.moves.cPickle as pickle\n",
    "dataset='mnist.pkl.gz'\n",
    "with gzip.open(dataset, 'rb') as f:\n",
    "        try:\n",
    "            train_set, valid_set, test_set = pickle.load(f, encoding='latin1')\n",
    "        except:\n",
    "            train_set, valid_set, test_set = pickle.load(f)"
   ]
  },
  {
   "cell_type": "code",
   "execution_count": 2,
   "metadata": {
    "collapsed": false
   },
   "outputs": [
    {
     "name": "stdout",
     "output_type": "stream",
     "text": [
      "14 0.441301665703 0.441334908689 0:00:47.881992\n"
     ]
    }
   ],
   "source": [
    "eta = 0.1 # Learning rate\n",
    "lambdas = 0.01 # regularization factor \n",
    "x = T.dmatrix('x')\n",
    "y = T.lvector('y')\n",
    "w = theano.shared(np.random.randn(train_set[0].shape[1],len(np.unique(train_set[1]))),name='w',borrow=True)\n",
    "b = theano.shared(value=np.zeros((len(np.unique(train_set[1])),),dtype=theano.config.floatX),name='b',borrow=True)\n",
    "p_y_given_x = T.nnet.softmax(T.dot(x, w) + b)   # Probability that target belongs to class i\n",
    "prediction = T.argmax(p_y_given_x, axis=1)      # The prediction of the model (class whose probability is maximal)\n",
    "loss = -T.mean(T.log(p_y_given_x)[T.arange(y.shape[0]), y])  # Loss function\n",
    "cost = loss.mean() + lambdas * (w ** 2).sum()      # The cost to minimize\n",
    "gw = T.grad(cost=cost, wrt=w)\n",
    "gb = T.grad(cost=cost, wrt=b)\n",
    "train = theano.function(inputs=[x,y], outputs=[prediction, loss],\n",
    "          updates=((w, w - eta * gw), (b, b - eta * gb)),name='train')\n",
    "validate = theano.function(inputs=[x,y],outputs=[prediction, loss],name='validate')\n",
    "test = theano.function(inputs=[x,y],outputs=[prediction, loss],name='test')\n",
    "predict = theano.function(inputs=[x], outputs=prediction, name='predict')\n",
    "# Train\n",
    "n_epochs = 100\n",
    "batch_size = 256    # size of the minibatch\n",
    "n_train_batches = train_set[0].shape[0] // batch_size\n",
    "n_valid_batches = valid_set[0].shape[0] // batch_size\n",
    "n_test_batches = test_set[0].shape[0] // batch_size\n",
    "error_train = []   \n",
    "error_valid = []\n",
    "error_new, error_old, i = 1,0,0\n",
    "time1=datetime.datetime.now()\n",
    "while abs(error_old - error_new) > 1e-4: ## early stop\n",
    "    error_old = error_new\n",
    "    order = np.random.permutation(train_set[0].shape[0])\n",
    "    permutex = train_set[0][order]\n",
    "    permutey = train_set[1][order]\n",
    "    error_valid_int = []\n",
    "    for index in range(n_train_batches):\n",
    "        # Now for the update we only use one mini-batch at a time\n",
    "        pred, err = train(permutex[index * batch_size: (index + 1) * batch_size], \\\n",
    "                          permutey[index * batch_size: (index + 1) * batch_size])\n",
    "        error_train.append(err)  # save the train error for this batch\n",
    "        errores = []             \n",
    "        # Now we check the performance on the validation set, every 2 batches.\n",
    "        if (index%2 == 0):\n",
    "            for j in range(n_valid_batches):\n",
    "                pred_val, err_val = validate(valid_set[0][j * batch_size: (j + 1) * batch_size], \\\n",
    "                              valid_set[1][j * batch_size: (j + 1) * batch_size])\n",
    "                errores.append(err_val)\n",
    "            # We get the validation error as the average over batches\n",
    "            this_error = np.mean(errores)\n",
    "            error_valid.append(this_error)\n",
    "            error_valid_int.append(this_error)            \n",
    "    error_new = np.mean(error_valid_int)\n",
    "    i=i+1\n",
    "    if(i==n_epochs):break ## compulsory stop\n",
    "time2=datetime.datetime.now()\n",
    "print(i,error_old,error_new,time2-time1)"
   ]
  },
  {
   "cell_type": "markdown",
   "metadata": {},
   "source": [
    "### Part B\n",
    "\n",
    "* Evaluate the validation loss function periodically as you train the classifier and plot it as a function of the epoch. Plot this loss function for several values of the regularization factor.\n",
    "* When should you stop the training for different values of $\\lambda$? Give an approximate answer supported by using the plots.\n",
    "* Select what you consider the best regularization factor and predict the classes of the test set. Compare with the given labels. What is the test error that you obtain?"
   ]
  },
  {
   "cell_type": "code",
   "execution_count": 3,
   "metadata": {
    "collapsed": false
   },
   "outputs": [
    {
     "data": {
      "image/png": "[encoded data removed]",
      "text/plain": [
       "<matplotlib.figure.Figure at 0x2614c47c748>"
      ]
     },
     "metadata": {},
     "output_type": "display_data"
    }
   ],
   "source": [
    "import matplotlib.pyplot as plt\n",
    "%matplotlib inline\n",
    "plt.plot(np.arange(len(error_valid)),np.array(error_valid),marker='.')\n",
    "plt.suptitle('lambda = 0.01')\n",
    "plt.axis('tight')\n",
    "plt.yscale('log')"
   ]
  },
  {
   "cell_type": "code",
   "execution_count": 4,
   "metadata": {
    "collapsed": false
   },
   "outputs": [
    {
     "name": "stdout",
     "output_type": "stream",
     "text": [
      "15 0.3768324747 0.376804462154 0:00:50.470418\n"
     ]
    }
   ],
   "source": [
    "eta = 0.1 # Learning rate\n",
    "lambdas = 0.005 # regularization factor \n",
    "x = T.dmatrix('x')\n",
    "y = T.lvector('y')\n",
    "w = theano.shared(np.random.randn(train_set[0].shape[1],len(np.unique(train_set[1]))),name='w',borrow=True)\n",
    "b = theano.shared(value=np.zeros((len(np.unique(train_set[1])),),dtype=theano.config.floatX),name='b',borrow=True)\n",
    "p_y_given_x = T.nnet.softmax(T.dot(x, w) + b)   # Probability that target belongs to class i\n",
    "prediction = T.argmax(p_y_given_x, axis=1)      # The prediction of the model (class whose probability is maximal)\n",
    "loss = -T.mean(T.log(p_y_given_x)[T.arange(y.shape[0]), y])  # Loss function\n",
    "cost = loss.mean() + lambdas * (w ** 2).sum()      # The cost to minimize\n",
    "gw = T.grad(cost=cost, wrt=w)\n",
    "gb = T.grad(cost=cost, wrt=b)\n",
    "train = theano.function(inputs=[x,y], outputs=[prediction, loss],\n",
    "          updates=((w, w - eta * gw), (b, b - eta * gb)),name='train')\n",
    "validate = theano.function(inputs=[x,y],outputs=[prediction, loss],name='validate')\n",
    "test = theano.function(inputs=[x,y],outputs=[prediction, loss],name='test')\n",
    "predict = theano.function(inputs=[x], outputs=prediction, name='predict')\n",
    "# Train\n",
    "n_epochs = 100\n",
    "batch_size = 256    # size of the minibatch\n",
    "n_train_batches = train_set[0].shape[0] // batch_size\n",
    "n_valid_batches = valid_set[0].shape[0] // batch_size\n",
    "n_test_batches = test_set[0].shape[0] // batch_size\n",
    "error_train = []   \n",
    "error_valid = []\n",
    "error_new, error_old, i = 1,0,0\n",
    "time1=datetime.datetime.now()\n",
    "while abs(error_old - error_new) > 1e-4: ## early stop\n",
    "    error_old = error_new\n",
    "    order = np.random.permutation(train_set[0].shape[0])\n",
    "    permutex = train_set[0][order]\n",
    "    permutey = train_set[1][order]\n",
    "    error_valid_int = []\n",
    "    for index in range(n_train_batches):\n",
    "        # Now for the update we only use one mini-batch at a time\n",
    "        pred, err = train(permutex[index * batch_size: (index + 1) * batch_size], \\\n",
    "                          permutey[index * batch_size: (index + 1) * batch_size])\n",
    "        error_train.append(err)  # save the train error for this batch\n",
    "        errores = []             \n",
    "        # Now we check the performance on the validation set, every 2 batches.\n",
    "        if (index%2 == 0):\n",
    "            for j in range(n_valid_batches):\n",
    "                pred_val, err_val = validate(valid_set[0][j * batch_size: (j + 1) * batch_size], \\\n",
    "                              valid_set[1][j * batch_size: (j + 1) * batch_size])\n",
    "                errores.append(err_val)\n",
    "            # We get the validation error as the average over batches\n",
    "            this_error = np.mean(errores)\n",
    "            error_valid.append(this_error)\n",
    "            error_valid_int.append(this_error)           \n",
    "    error_new = np.mean(error_valid_int)\n",
    "    i=i+1\n",
    "    if(i==n_epochs):break ## compulsory stop\n",
    "time2=datetime.datetime.now()\n",
    "print(i,error_old,error_new,time2-time1)"
   ]
  },
  {
   "cell_type": "code",
   "execution_count": 5,
   "metadata": {
    "collapsed": false
   },
   "outputs": [
    {
     "data": {
      "image/png": "[encoded data removed]",
      "text/plain": [
       "<matplotlib.figure.Figure at 0x261013d4400>"
      ]
     },
     "metadata": {},
     "output_type": "display_data"
    }
   ],
   "source": [
    "plt.plot(np.arange(len(error_valid)),np.array(error_valid),marker='.')\n",
    "plt.suptitle('lambda = 0.005')\n",
    "plt.axis('tight')\n",
    "plt.yscale('log')"
   ]
  },
  {
   "cell_type": "code",
   "execution_count": 6,
   "metadata": {
    "collapsed": false
   },
   "outputs": [
    {
     "name": "stdout",
     "output_type": "stream",
     "text": [
      "11 0.723924233302 0.723847872054 0:00:36.418587\n"
     ]
    }
   ],
   "source": [
    "eta = 0.1 # Learning rate\n",
    "lambdas = 0.05 # regularization factor \n",
    "x = T.dmatrix('x')\n",
    "y = T.lvector('y')\n",
    "w = theano.shared(np.random.randn(train_set[0].shape[1],len(np.unique(train_set[1]))),name='w',borrow=True)\n",
    "b = theano.shared(value=np.zeros((len(np.unique(train_set[1])),),dtype=theano.config.floatX),name='b',borrow=True)\n",
    "p_y_given_x = T.nnet.softmax(T.dot(x, w) + b)   # Probability that target belongs to class i\n",
    "prediction = T.argmax(p_y_given_x, axis=1)      # The prediction of the model (class whose probability is maximal)\n",
    "loss = -T.mean(T.log(p_y_given_x)[T.arange(y.shape[0]), y])  # Loss function\n",
    "cost = loss.mean() + lambdas * (w ** 2).sum()      # The cost to minimize\n",
    "gw = T.grad(cost=cost, wrt=w)\n",
    "gb = T.grad(cost=cost, wrt=b)\n",
    "train = theano.function(inputs=[x,y], outputs=[prediction, loss],\n",
    "          updates=((w, w - eta * gw), (b, b - eta * gb)),name='train')\n",
    "validate = theano.function(inputs=[x,y],outputs=[prediction, loss],name='validate')\n",
    "test = theano.function(inputs=[x,y],outputs=[prediction, loss],name='test')\n",
    "predict = theano.function(inputs=[x], outputs=prediction, name='predict')\n",
    "# Train\n",
    "n_epochs = 100\n",
    "batch_size = 256    # size of the minibatch\n",
    "n_train_batches = train_set[0].shape[0] // batch_size\n",
    "n_valid_batches = valid_set[0].shape[0] // batch_size\n",
    "n_test_batches = test_set[0].shape[0] // batch_size\n",
    "error_train = []   \n",
    "error_valid = []\n",
    "error_new, error_old, i = 1,0,0\n",
    "time1=datetime.datetime.now()\n",
    "while abs(error_old - error_new) > 1e-4: ## early stop\n",
    "    error_old = error_new\n",
    "    order = np.random.permutation(train_set[0].shape[0])\n",
    "    permutex = train_set[0][order]\n",
    "    permutey = train_set[1][order]\n",
    "    error_valid_int = []\n",
    "    for index in range(n_train_batches):\n",
    "        # Now for the update we only use one mini-batch at a time\n",
    "        pred, err = train(permutex[index * batch_size: (index + 1) * batch_size], \\\n",
    "                          permutey[index * batch_size: (index + 1) * batch_size])\n",
    "        error_train.append(err)  # save the train error for this batch\n",
    "        errores = []             \n",
    "        # Now we check the performance on the validation set, every 2 batches.\n",
    "        if (index%2 == 0):\n",
    "            for j in range(n_valid_batches):\n",
    "                pred_val, err_val = validate(valid_set[0][j * batch_size: (j + 1) * batch_size], \\\n",
    "                              valid_set[1][j * batch_size: (j + 1) * batch_size])\n",
    "                errores.append(err_val)\n",
    "            # We get the validation error as the average over batches\n",
    "            this_error = np.mean(errores)\n",
    "            error_valid.append(this_error)\n",
    "            error_valid_int.append(this_error)           \n",
    "    error_new = np.mean(error_valid_int)\n",
    "    i=i+1\n",
    "    if(i==n_epochs):break ## compulsory stop\n",
    "time2=datetime.datetime.now()\n",
    "print(i,error_old,error_new,time2-time1)"
   ]
  },
  {
   "cell_type": "code",
   "execution_count": 7,
   "metadata": {
    "collapsed": false
   },
   "outputs": [
    {
     "data": {
      "image/png": "[encoded data removed]",
      "text/plain": [
       "<matplotlib.figure.Figure at 0x261013edb70>"
      ]
     },
     "metadata": {},
     "output_type": "display_data"
    }
   ],
   "source": [
    "plt.plot(np.arange(len(error_valid)),np.array(error_valid),marker='.')\n",
    "plt.suptitle('lambda = 0.05')\n",
    "plt.axis('tight')\n",
    "plt.yscale('log')"
   ]
  },
  {
   "cell_type": "code",
   "execution_count": 8,
   "metadata": {
    "collapsed": false
   },
   "outputs": [
    {
     "name": "stdout",
     "output_type": "stream",
     "text": [
      "47 0.297474047707 0.29742780134 0:02:36.084479\n"
     ]
    }
   ],
   "source": [
    "eta = 0.1 # Learning rate\n",
    "lambdas = 0.001 # regularization factor \n",
    "x = T.dmatrix('x')\n",
    "y = T.lvector('y')\n",
    "w = theano.shared(np.random.randn(train_set[0].shape[1],len(np.unique(train_set[1]))),name='w',borrow=True)\n",
    "b = theano.shared(value=np.zeros((len(np.unique(train_set[1])),),dtype=theano.config.floatX),name='b',borrow=True)\n",
    "p_y_given_x = T.nnet.softmax(T.dot(x, w) + b)   # Probability that target belongs to class i\n",
    "prediction = T.argmax(p_y_given_x, axis=1)      # The prediction of the model (class whose probability is maximal)\n",
    "loss = -T.mean(T.log(p_y_given_x)[T.arange(y.shape[0]), y])  # Loss function\n",
    "cost = loss.mean() + lambdas * (w ** 2).sum()      # The cost to minimize\n",
    "gw = T.grad(cost=cost, wrt=w)\n",
    "gb = T.grad(cost=cost, wrt=b)\n",
    "train = theano.function(inputs=[x,y], outputs=[prediction, loss],\n",
    "          updates=((w, w - eta * gw), (b, b - eta * gb)),name='train')\n",
    "validate = theano.function(inputs=[x,y],outputs=[prediction, loss],name='validate')\n",
    "test = theano.function(inputs=[x,y],outputs=[prediction, loss],name='test')\n",
    "predict = theano.function(inputs=[x], outputs=prediction, name='predict')\n",
    "# Train\n",
    "n_epochs = 100\n",
    "batch_size = 256    # size of the minibatch\n",
    "n_train_batches = train_set[0].shape[0] // batch_size\n",
    "n_valid_batches = valid_set[0].shape[0] // batch_size\n",
    "n_test_batches = test_set[0].shape[0] // batch_size\n",
    "error_train = []   \n",
    "error_valid = []\n",
    "error_new, error_old, i = 1,0,0\n",
    "time1=datetime.datetime.now()\n",
    "while abs(error_old - error_new) > 1e-4: ## early stop\n",
    "    error_old = error_new\n",
    "    order = np.random.permutation(train_set[0].shape[0])\n",
    "    permutex = train_set[0][order]\n",
    "    permutey = train_set[1][order]\n",
    "    error_valid_int = []\n",
    "    for index in range(n_train_batches):\n",
    "        # Now for the update we only use one mini-batch at a time\n",
    "        pred, err = train(permutex[index * batch_size: (index + 1) * batch_size], \\\n",
    "                          permutey[index * batch_size: (index + 1) * batch_size])\n",
    "        error_train.append(err)  # save the train error for this batch\n",
    "        errores = []             \n",
    "        # Now we check the performance on the validation set, every 2 batches.\n",
    "        if (index%2 == 0):\n",
    "            for j in range(n_valid_batches):\n",
    "                pred_val, err_val = validate(valid_set[0][j * batch_size: (j + 1) * batch_size], \\\n",
    "                              valid_set[1][j * batch_size: (j + 1) * batch_size])\n",
    "                errores.append(err_val)\n",
    "            # We get the validation error as the average over batches\n",
    "            this_error = np.mean(errores)\n",
    "            error_valid.append(this_error)\n",
    "            error_valid_int.append(this_error)           \n",
    "    error_new = np.mean(error_valid_int)\n",
    "    i=i+1\n",
    "    if(i==n_epochs):break ## compulsory stop\n",
    "time2=datetime.datetime.now()\n",
    "print(i,error_old,error_new,time2-time1)"
   ]
  },
  {
   "cell_type": "code",
   "execution_count": 9,
   "metadata": {
    "collapsed": false
   },
   "outputs": [
    {
     "data": {
      "image/png": "[encoded data removed]",
      "text/plain": [
       "<matplotlib.figure.Figure at 0x2610254dfd0>"
      ]
     },
     "metadata": {},
     "output_type": "display_data"
    }
   ],
   "source": [
    "plt.plot(np.arange(len(error_valid)),np.array(error_valid),marker='.')\n",
    "plt.suptitle('lambda = 0.001')\n",
    "plt.axis('tight')\n",
    "plt.yscale('log')"
   ]
  },
  {
   "cell_type": "markdown",
   "metadata": {},
   "source": [
    "I stop the training process when the difference in average validate error across batches is smaller than 1e-4. For example, in the case of $\\lambda=0.01$, I stop training after 13 rounds of mini-batch gradient descent, within each round there are [50000/256] updates for the parameter $w$ and $b$. Below is a summary table of results under different choices of $\\lambda$.\\\\"
   ]
  },
  {
   "cell_type": "code",
   "execution_count": 10,
   "metadata": {
    "collapsed": false
   },
   "outputs": [
    {
     "data": {
      "text/html": [
       "<table><tr><td>Lambda</td><td>Average Loss</td><td>Rounds of updates</td><td>Time Needed</td></tr><tr><td>0.05</td><td>0.7239</td><td>11</td><td>00:36</td></tr><tr><td>0.01</td><td>0.4413</td><td>14</td><td>00:48</td></tr><tr><td>0.005</td><td>0.3768</td><td>15</td><td>00:50</td></tr><tr><td>0.001</td><td>0.2975</td><td>47</td><td>02:36</td></tr></table>"
      ],
      "text/plain": [
       "<IPython.core.display.HTML object>"
      ]
     },
     "metadata": {},
     "output_type": "display_data"
    }
   ],
   "source": [
    "from IPython.display import HTML, display\n",
    "temp = [['Lambda','Average Loss','Rounds of updates','Time Needed'],\n",
    "         [0.05,0.7239,11,'00:36'],\n",
    "         [0.01,0.4413,14,'00:48'],\n",
    "         [0.005,0.3768,15,'00:50'],\n",
    "         [0.001,0.2975,47,'02:36'],\n",
    "         ]\n",
    "\n",
    "display(HTML(\n",
    "    '<table><tr>{}</tr></table>'.format(\n",
    "        '</tr><tr>'.join(\n",
    "            '<td>{}</td>'.format('</td><td>'.join(str(_) for _ in row)) for row in temp)\n",
    "        )\n",
    " ))"
   ]
  },
  {
   "cell_type": "code",
   "execution_count": 11,
   "metadata": {
    "collapsed": false
   },
   "outputs": [
    {
     "name": "stdout",
     "output_type": "stream",
     "text": [
      "Test error =  8.28\n"
     ]
    }
   ],
   "source": [
    "aa = T.dvector('aa')\n",
    "bb = T.dvector('bb')\n",
    "cc = T.mean(T.neq(aa, bb))\n",
    "f_err = theano.function([aa, bb], cc)\n",
    "print('Test error = ',100.*f_err(test_set[1],predict(test_set[0])))"
   ]
  },
  {
   "cell_type": "markdown",
   "metadata": {},
   "source": [
    "I would like to choose $\\lambda=0.001$, it reaches the minimun average loss and consumes a reasonable amount of time, the test error is 8.28%."
   ]
  },
  {
   "cell_type": "markdown",
   "metadata": {},
   "source": [
    "## Problem 2. The Multilayer Perceptron (with one hidden layer)\n",
    "The multilayer perceptron can be understood as a logistic regression classifier in which the input is first transformed using a learnt non-linear transformation. The non-linear transformation is usually chosen to be either the logistic function or the $\\tanh$ function, and its purpose is to project the data into a space where it becomes linealry separable The output of this so-called hidden layer is then passed to the logistic regression graph that we have constructed in the first problem. In matrix notation:\n",
    "\n",
    "$$G(b^{(2)}+W^{(2)}(s(b^{(1)}W^{(1)}x)))$$\n",
    "\n",
    "with bias vectors $b^{(1)}$, $b^{(2)}$; weight matrices $W^{(1)}$, $W^{(2)}$ and activation functions $G$ and $s$. Here is a diagram:\n",
    "\n",
    "![](http://deeplearning.net/tutorial/_images/mlp.png){:height=300 width=300}\n",
    "\n",
    "### Part A\n",
    "\n",
    "Using a similar architecture as in the first part and the same MNIST dataset, built a Theano graph for the multilayer perceptron, using the $\\tanh$ function as the non-linearity. Use $\\eta = 0.1$ and $\\lambda = 0.001$. Experiment with the batch size (use 20, 50, and 100 examples) and the number of units in your hidden layer (use 50, 100, and 200 units). For what combination of these parameters do you obtain the smallest value of the validation loss function after 50 epochs?\n",
    "\n",
    "### Part B\n",
    "\n",
    "Stop the trainning at a convenient validation loss and use the trained classifier to predict for the test set. How much better is your test error as compared to the logistic regression classifier?\n",
    "\n",
    "*Hint 1:* The initialization of the weights matrix for the hidden layer must assure that the units (neurons) of the perceptron operate in a regime where information gets propagated. For the $\\tanh$ function, it is advisable to initialize with the interval $[-\\sqrt{\\frac{6}{fan_{in}+fan_{out}}},\\sqrt{\\frac{6}{fan_{in}+fan_{out}}}]$, where $fan_{in}$ is the number of units in the $(i-1)$-th layer, and $fan_{out}$ is the number of units in the i-th layer.\n",
    "\n",
    "*Hint 2:* You should feel free to get inspiration from [these tutorials](http://deeplearning.net/tutorial/mlp.html). However, we expect you to write your own code, inspired by the architecture shown in the lab."
   ]
  },
  {
   "cell_type": "code",
   "execution_count": 2,
   "metadata": {
    "collapsed": false
   },
   "outputs": [
    {
     "name": "stdout",
     "output_type": "stream",
     "text": [
      "batch_size= 20 n_hidden= 50 error= 0.136652355855 time= 1:09:04.798325\n",
      "batch_size= 20 n_hidden= 100 error= 0.128706196052 time= 1:28:31.390745\n",
      "batch_size= 20 n_hidden= 200 error= 0.128080647713 time= 1:59:14.903516\n",
      "batch_size= 50 n_hidden= 50 error= 0.132305761701 time= 0:19:16.868359\n",
      "batch_size= 50 n_hidden= 100 error= 0.124063054504 time= 0:27:26.865372\n",
      "batch_size= 50 n_hidden= 200 error= 0.12441433617 time= 0:39:48.138210\n",
      "batch_size= 100 n_hidden= 50 error= 0.136850608483 time= 0:08:16.656609\n",
      "batch_size= 100 n_hidden= 100 error= 0.12608560783 time= 0:12:23.679375\n",
      "batch_size= 100 n_hidden= 200 error= 0.125196422871 time= 0:20:42.835217\n"
     ]
    }
   ],
   "source": [
    "for batch_size in [20,50,100]:\n",
    "    for n_hidden in [50,100,200]:\n",
    "        eta = 0.1 # Learning rate\n",
    "        lambdas = 0.001 # regularization factor \n",
    "        x = T.dmatrix('x')\n",
    "        y = T.lvector('y')\n",
    "        n_in = train_set[0].shape[1]\n",
    "        n_out = len(np.unique(train_set[1]))\n",
    "        w1 = theano.shared(np.random.uniform(low=-np.sqrt(6. / (n_in + n_hidden)),\n",
    "                    high=np.sqrt(6. / (n_in + n_hidden)),size=(n_in, n_hidden)),name='w',borrow=True)\n",
    "        w2 = theano.shared(np.random.randn(n_hidden,n_out),name='w',borrow=True)\n",
    "        b1 = theano.shared(value=np.zeros(n_hidden, dtype=theano.config.floatX),name='b',borrow=True)\n",
    "        b2 = theano.shared(value=np.zeros(n_out, dtype=theano.config.floatX),name='b',borrow=True)\n",
    "\n",
    "        h = T.tanh(T.dot(x, w1) + b1)\n",
    "        p_y_given_h = T.nnet.softmax(T.dot(h, w2) + b2)  \n",
    "        prediction = T.argmax(p_y_given_h, axis=1)      \n",
    "        loss = -T.mean(T.log(p_y_given_h)[T.arange(y.shape[0]), y])  \n",
    "        cost = loss.mean() + lambdas * ((w1**2).sum() + (w2**2).sum())  \n",
    "        gw1 = T.grad(cost=cost, wrt=w1)\n",
    "        gw2 = T.grad(cost=cost, wrt=w2)\n",
    "        gb1 = T.grad(cost=cost, wrt=b1)\n",
    "        gb2 = T.grad(cost=cost, wrt=b2)\n",
    "\n",
    "        train = theano.function(inputs=[x,y], outputs=[prediction, loss],\n",
    "                updates=((w1, w1 - eta * gw1), (w2, w2 - eta * gw2),\n",
    "                (b1, b1 - eta * gb1), (b2, b2 - eta * gb2)),name='train')\n",
    "        validate = theano.function(inputs=[x,y],outputs=[prediction, loss],name='validate')\n",
    "        test = theano.function(inputs=[x,y],outputs=[prediction, loss],name='test')\n",
    "        predict = theano.function(inputs=[x], outputs=prediction, name='predict')\n",
    "        # Train\n",
    "        n_train_batches = train_set[0].shape[0] // batch_size\n",
    "        n_valid_batches = valid_set[0].shape[0] // batch_size\n",
    "        n_test_batches = test_set[0].shape[0] // batch_size\n",
    "        error_train = []   \n",
    "        error_valid = []\n",
    "        error_new, error_old, i = 1,0,0\n",
    "        i=0\n",
    "        time1=datetime.datetime.now()\n",
    "        while i<50: \n",
    "            error_old = error_new\n",
    "            order = np.random.permutation(train_set[0].shape[0])\n",
    "            permutex = train_set[0][order]\n",
    "            permutey = train_set[1][order]\n",
    "            error_valid_int = []\n",
    "            for index in range(n_train_batches):\n",
    "                pred, err = train(permutex[index * batch_size: (index + 1) * batch_size], \\\n",
    "                          permutey[index * batch_size: (index + 1) * batch_size])\n",
    "                error_train.append(err)  # save the train error for this batch             \n",
    "                if (index%2 == 0):\n",
    "                    errores = []\n",
    "                    for j in range(n_valid_batches):\n",
    "                        pred_val, err_val = validate(valid_set[0][j * batch_size: (j + 1) * batch_size], \\\n",
    "                              valid_set[1][j * batch_size: (j + 1) * batch_size])\n",
    "                        errores.append(err_val)\n",
    "                this_error = np.mean(errores)\n",
    "                error_valid.append(this_error)\n",
    "                error_valid_int.append(this_error)            \n",
    "            error_new = np.mean(error_valid_int)\n",
    "            i=i+1\n",
    "        time2=datetime.datetime.now()\n",
    "        print('batch_size=',batch_size,'n_hidden=',n_hidden,'error=',error_new,'time=',time2-time1)"
   ]
  },
  {
   "cell_type": "code",
   "execution_count": 29,
   "metadata": {
    "collapsed": false
   },
   "outputs": [
    {
     "name": "stdout",
     "output_type": "stream",
     "text": [
      "batch_size= 100 n_hidden= 200 error= 0.125550669009 time= 0:25:55.166655\n"
     ]
    }
   ],
   "source": [
    "batch_size = 100\n",
    "n_hidden = 200\n",
    "eta = 0.1 # Learning rate\n",
    "lambdas = 0.001 # regularization factor \n",
    "x = T.dmatrix('x')\n",
    "y = T.lvector('y')\n",
    "n_in = train_set[0].shape[1]\n",
    "n_out = len(np.unique(train_set[1]))\n",
    "w1 = theano.shared(np.random.uniform(low=-np.sqrt(6. / (n_in + n_hidden)),\n",
    "     high=np.sqrt(6. / (n_in + n_hidden)),size=(n_in, n_hidden)),name='w',borrow=True)\n",
    "w2 = theano.shared(np.random.randn(n_hidden,n_out),name='w',borrow=True)\n",
    "b1 = theano.shared(value=np.zeros(n_hidden, dtype=theano.config.floatX),name='b',borrow=True)\n",
    "b2 = theano.shared(value=np.zeros(n_out, dtype=theano.config.floatX),name='b',borrow=True)\n",
    "\n",
    "h = T.tanh(T.dot(x, w1) + b1)\n",
    "p_y_given_h = T.nnet.softmax(T.dot(h, w2) + b2)  \n",
    "prediction = T.argmax(p_y_given_h, axis=1)      \n",
    "loss = -T.mean(T.log(p_y_given_h)[T.arange(y.shape[0]), y])  \n",
    "cost = loss.mean() + lambdas * ((w1**2).sum() + (w2**2).sum())  \n",
    "gw1 = T.grad(cost=cost, wrt=w1)\n",
    "gw2 = T.grad(cost=cost, wrt=w2)\n",
    "gb1 = T.grad(cost=cost, wrt=b1)\n",
    "gb2 = T.grad(cost=cost, wrt=b2)\n",
    "train = theano.function(inputs=[x,y], outputs=[prediction, loss],\n",
    "        updates=((w1, w1 - eta * gw1), (w2, w2 - eta * gw2),\n",
    "        (b1, b1 - eta * gb1), (b2, b2 - eta * gb2)),name='train')\n",
    "validate = theano.function(inputs=[x,y],outputs=[prediction, loss],name='validate')\n",
    "test = theano.function(inputs=[x,y],outputs=[prediction, loss],name='test')\n",
    "predict = theano.function(inputs=[x], outputs=prediction, name='predict')\n",
    "# Train\n",
    "n_train_batches = train_set[0].shape[0] // batch_size\n",
    "n_valid_batches = valid_set[0].shape[0] // batch_size\n",
    "n_test_batches = test_set[0].shape[0] // batch_size\n",
    "error_train = []   \n",
    "error_valid = []\n",
    "error_new, error_old, i = 1,0,0\n",
    "i=0\n",
    "time1=datetime.datetime.now()\n",
    "while i<50: \n",
    "    error_old = error_new\n",
    "    order = np.random.permutation(train_set[0].shape[0])\n",
    "    permutex = train_set[0][order]\n",
    "    permutey = train_set[1][order]\n",
    "    error_valid_int = []\n",
    "    for index in range(n_train_batches):\n",
    "        pred, err = train(permutex[index * batch_size: (index + 1) * batch_size], \\\n",
    "                    permutey[index * batch_size: (index + 1) * batch_size])\n",
    "        error_train.append(err)  # save the train error for this batch             \n",
    "        if (index%2 == 0):\n",
    "            errores = []\n",
    "            for j in range(n_valid_batches):\n",
    "                pred_val, err_val = validate(valid_set[0][j * batch_size: (j + 1) * batch_size], \\\n",
    "                        valid_set[1][j * batch_size: (j + 1) * batch_size])\n",
    "                errores.append(err_val)\n",
    "        this_error = np.mean(errores)\n",
    "        error_valid.append(this_error)\n",
    "        error_valid_int.append(this_error)            \n",
    "    error_new = np.mean(error_valid_int)\n",
    "    i=i+1\n",
    "time2=datetime.datetime.now()\n",
    "print('batch_size=',batch_size,'n_hidden=',n_hidden,'error=',error_new,'time=',time2-time1)"
   ]
  },
  {
   "cell_type": "code",
   "execution_count": 30,
   "metadata": {
    "collapsed": false
   },
   "outputs": [
    {
     "name": "stdout",
     "output_type": "stream",
     "text": [
      "Test error =  3.29\n"
     ]
    }
   ],
   "source": [
    "print('Test error = ',100.*f_err(test_set[1],predict(test_set[0])))"
   ]
  },
  {
   "cell_type": "markdown",
   "metadata": {},
   "source": [
    "The Test error reduces from 8.28% to 3.29%"
   ]
  }
 ],
 "metadata": {
  "anaconda-cloud": {},
  "kernelspec": {
   "display_name": "Python [conda root]",
   "language": "python",
   "name": "conda-root-py"
  },
  "language_info": {
   "codemirror_mode": {
    "name": "ipython",
    "version": 3
   },
   "file_extension": ".py",
   "mimetype": "text/x-python",
   "name": "python",
   "nbconvert_exporter": "python",
   "pygments_lexer": "ipython3",
   "version": "3.5.2"
  }
 },
 "nbformat": 4,
 "nbformat_minor": 0
}
